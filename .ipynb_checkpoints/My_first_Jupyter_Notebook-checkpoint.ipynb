{
 "cells": [
  {
   "cell_type": "code",
   "execution_count": null,
   "id": "63719bb5-c201-43cf-9f68-4f4b78c50760",
   "metadata": {},
   "outputs": [],
   "source": [
    "# Jupyter Introducció"
   ]
  },
  {
   "cell_type": "code",
   "execution_count": null,
   "id": "5268b3e4-3909-49b9-92a6-a8eafa57d494",
   "metadata": {},
   "outputs": [],
   "source": [
    "Escrivim codi per afegir una llista de valors superiors a 15.0"
   ]
  },
  {
   "cell_type": "code",
   "execution_count": 2,
   "id": "a6e9eb23-15c5-4337-a647-d2cec3be186f",
   "metadata": {},
   "outputs": [
    {
     "name": "stdout",
     "output_type": "stream",
     "text": [
      "[21.6, 15.7]\n"
     ]
    }
   ],
   "source": [
    "llista_resultats = [12.5,14.7,21.6,15.7]\n",
    "nova_llista = []\n",
    "for num in llista_resultats:\n",
    "    if num > 15.0:\n",
    "        nova_llista.append(num)\n",
    "print(nova_llista)"
   ]
  }
 ],
 "metadata": {
  "kernelspec": {
   "display_name": "Python 3 (ipykernel)",
   "language": "python",
   "name": "python3"
  },
  "language_info": {
   "codemirror_mode": {
    "name": "ipython",
    "version": 3
   },
   "file_extension": ".py",
   "mimetype": "text/x-python",
   "name": "python",
   "nbconvert_exporter": "python",
   "pygments_lexer": "ipython3",
   "version": "3.12.2"
  }
 },
 "nbformat": 4,
 "nbformat_minor": 5
}
